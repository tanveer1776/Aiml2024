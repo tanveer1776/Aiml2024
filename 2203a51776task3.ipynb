{
  "nbformat": 4,
  "nbformat_minor": 0,
  "metadata": {
    "colab": {
      "provenance": []
    },
    "kernelspec": {
      "name": "python3",
      "display_name": "Python 3"
    },
    "language_info": {
      "name": "python"
    }
  },
  "cells": [
    {
      "cell_type": "code",
      "execution_count": null,
      "metadata": {
        "colab": {
          "base_uri": "https://localhost:8080/"
        },
        "id": "QbvBPTeKyHAV",
        "outputId": "6a7a33c3-2f19-4750-aff8-751ca05c3183"
      },
      "outputs": [
        {
          "output_type": "stream",
          "name": "stdout",
          "text": [
            "    pizza_id   pizza_name_id  Unnamed: 2 quantity pizza_name\n",
            "0          1      hawaiian_m           1        M    Classic\n",
            "1          2   classic_dlx_m           1        M    Classic\n",
            "2          3   five_cheese_l           1        L     Veggie\n",
            "3          4     ital_supr_l           1        L    Supreme\n",
            "4          5      mexicana_m           1        M     Veggie\n",
            "5          6      thai_ckn_l           1        L    Chicken\n",
            "6          7     ital_supr_m           1        M    Supreme\n",
            "7          8    prsc_argla_l           1        L    Supreme\n",
            "8          9     ital_supr_m           1        M    Supreme\n",
            "9         10     ital_supr_m           1        M    Supreme\n",
            "10        11       bbq_ckn_s           1        S    Chicken\n",
            "11        12     the_greek_s           1        S    Classic\n",
            "12        13  spinach_supr_s           1        S    Supreme\n",
            "13        14  spinach_supr_s           1        S    Supreme\n",
            "14        15   classic_dlx_s           1        S    Classic\n",
            "15        16  green_garden_s           1        S     Veggie\n",
            "16        17   ital_cpcllo_l           1        L    Classic\n",
            "17        18     ital_supr_l           1        L    Supreme\n",
            "18        19     ital_supr_s           1        S    Supreme\n",
            "19        20      mexicana_s           1        S     Veggie\n",
            "20        21    spicy_ital_l           1        L    Supreme\n",
            "21        22    spin_pesto_l           1        L     Veggie\n",
            "22        23    veggie_veg_s           1        S     Veggie\n",
            "23        24      mexicana_l           1        L     Veggie\n"
          ]
        }
      ],
      "source": [
        "import pandas as pd\n",
        "file_path = '/content/drive/MyDrive/dataset.csv'\n",
        "df_csv = pd.read_csv(file_path)\n",
        "print(df_csv)"
      ]
    },
    {
      "cell_type": "code",
      "source": [
        "fp = '/content/drive/MyDrive/dataset1.xlsx'\n",
        "df_excel = pd.read_excel(fp)\n",
        "print(df_excel)"
      ],
      "metadata": {
        "colab": {
          "base_uri": "https://localhost:8080/"
        },
        "id": "AJiQfAklDPaQ",
        "outputId": "c3c1dc54-97ca-484d-a4a4-07e3fdfeb54b"
      },
      "execution_count": null,
      "outputs": [
        {
          "output_type": "stream",
          "name": "stdout",
          "text": [
            "    pizza_id   pizza_name_id  Unnamed: 2 quantity pizza_name\n",
            "0          1      hawaiian_m           1        M    Classic\n",
            "1          2   classic_dlx_m           1        M    Classic\n",
            "2          3   five_cheese_l           1        L     Veggie\n",
            "3          4     ital_supr_l           1        L    Supreme\n",
            "4          5      mexicana_m           1        M     Veggie\n",
            "5          6      thai_ckn_l           1        L    Chicken\n",
            "6          7     ital_supr_m           1        M    Supreme\n",
            "7          8    prsc_argla_l           1        L    Supreme\n",
            "8          9     ital_supr_m           1        M    Supreme\n",
            "9         10     ital_supr_m           1        M    Supreme\n",
            "10        11       bbq_ckn_s           1        S    Chicken\n",
            "11        12     the_greek_s           1        S    Classic\n",
            "12        13  spinach_supr_s           1        S    Supreme\n",
            "13        14  spinach_supr_s           1        S    Supreme\n",
            "14        15   classic_dlx_s           1        S    Classic\n",
            "15        16  green_garden_s           1        S     Veggie\n",
            "16        17   ital_cpcllo_l           1        L    Classic\n",
            "17        18     ital_supr_l           1        L    Supreme\n",
            "18        19     ital_supr_s           1        S    Supreme\n",
            "19        20      mexicana_s           1        S     Veggie\n",
            "20        21    spicy_ital_l           1        L    Supreme\n",
            "21        22    spin_pesto_l           1        L     Veggie\n",
            "22        23    veggie_veg_s           1        S     Veggie\n",
            "23        24      mexicana_l           1        L     Veggie\n"
          ]
        }
      ]
    },
    {
      "cell_type": "code",
      "source": [
        "tsv_file_path ='/content/drive/MyDrive/dataset.tsv'\n",
        "df_tsv = pd.read_csv(tsv_file_path)\n",
        "print(df_tsv)"
      ],
      "metadata": {
        "colab": {
          "base_uri": "https://localhost:8080/"
        },
        "id": "JcFEG8MUDW6M",
        "outputId": "7636d2ca-d75b-4a72-bd29-91aeb8871679"
      },
      "execution_count": 8,
      "outputs": [
        {
          "output_type": "stream",
          "name": "stdout",
          "text": [
            "   pizza_id\\tpizza_name_id\\t\\tquantity\\tpizza_name\n",
            "0                     1\\thawaiian_m\\t1\\tM\\tClassic\n",
            "1                  2\\tclassic_dlx_m\\t1\\tM\\tClassic\n",
            "2                   3\\tfive_cheese_l\\t1\\tL\\tVeggie\n",
            "3                    4\\tital_supr_l\\t1\\tL\\tSupreme\n",
            "4                      5\\tmexicana_m\\t1\\tM\\tVeggie\n",
            "5                     6\\tthai_ckn_l\\t1\\tL\\tChicken\n",
            "6                    7\\tital_supr_m\\t1\\tM\\tSupreme\n",
            "7                   8\\tprsc_argla_l\\t1\\tL\\tSupreme\n",
            "8                    9\\tital_supr_m\\t1\\tM\\tSupreme\n",
            "9                   10\\tital_supr_m\\t1\\tM\\tSupreme\n",
            "10                    11\\tbbq_ckn_s\\t1\\tS\\tChicken\n",
            "11                  12\\tthe_greek_s\\t1\\tS\\tClassic\n",
            "12               13\\tspinach_supr_s\\t1\\tS\\tSupreme\n",
            "13               14\\tspinach_supr_s\\t1\\tS\\tSupreme\n",
            "14                15\\tclassic_dlx_s\\t1\\tS\\tClassic\n",
            "15                16\\tgreen_garden_s\\t1\\tS\\tVeggie\n",
            "16                17\\tital_cpcllo_l\\t1\\tL\\tClassic\n",
            "17                  18\\tital_supr_l\\t1\\tL\\tSupreme\n",
            "18                  19\\tital_supr_s\\t1\\tS\\tSupreme\n",
            "19                    20\\tmexicana_s\\t1\\tS\\tVeggie\n",
            "20                 21\\tspicy_ital_l\\t1\\tL\\tSupreme\n",
            "21                  22\\tspin_pesto_l\\t1\\tL\\tVeggie\n",
            "22                  23\\tveggie_veg_s\\t1\\tS\\tVeggie\n",
            "23                    24\\tmexicana_l\\t1\\tL\\tVeggie\n"
          ]
        }
      ]
    }
  ]
}