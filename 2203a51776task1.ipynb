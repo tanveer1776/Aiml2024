{
  "nbformat": 4,
  "nbformat_minor": 0,
  "metadata": {
    "colab": {
      "provenance": []
    },
    "kernelspec": {
      "name": "python3",
      "display_name": "Python 3"
    },
    "language_info": {
      "name": "python"
    }
  },
  "cells": [
    {
      "cell_type": "code",
      "execution_count": 1,
      "metadata": {
        "colab": {
          "base_uri": "https://localhost:8080/"
        },
        "id": "dUuUDYP9zjVZ",
        "outputId": "6d54e362-ca76-4991-d92d-55e58d01a7f4"
      },
      "outputs": [
        {
          "output_type": "stream",
          "name": "stdout",
          "text": [
            "[3, 5, 7, 9, 1, 2, 4, 6]\n"
          ]
        }
      ],
      "source": [
        "l1=[3,5,7,9]\n",
        "l2=[1,2,4,6]\n",
        "r=l1+l2\n",
        "print(r)"
      ]
    },
    {
      "cell_type": "code",
      "source": [
        "import numpy as np\n",
        "a=np.array(l1)\n",
        "b=np.array(l2)\n",
        "r=a+b\n",
        "print(a)"
      ],
      "metadata": {
        "colab": {
          "base_uri": "https://localhost:8080/"
        },
        "id": "th_OdmmAz-za",
        "outputId": "a39a1745-9641-42be-c3a1-34583c85d67f"
      },
      "execution_count": 3,
      "outputs": [
        {
          "output_type": "stream",
          "name": "stdout",
          "text": [
            "[3 5 7 9]\n"
          ]
        }
      ]
    },
    {
      "cell_type": "code",
      "source": [
        "l1=[[1,6,3,8,5],\n",
        "[4,7,8,6,1],\n",
        "[8,17,9,3,5]]\n",
        "l2=[[2,4,5,9,1],\n",
        "    [4,6,7,8,12],\n",
        "        [3,19,1,4,9]]"
      ],
      "metadata": {
        "id": "JKcYgFA40Jfj"
      },
      "execution_count": 19,
      "outputs": []
    },
    {
      "cell_type": "code",
      "source": [
        "import numpy as np\n",
        "a=np.array(l1)\n",
        "b=np.array(l2)\n",
        "add=a+b\n",
        "print(add)"
      ],
      "metadata": {
        "colab": {
          "base_uri": "https://localhost:8080/"
        },
        "id": "s_Gn9p-U0Y_q",
        "outputId": "9c7b85ff-9618-4a9e-b26d-1ac40c73ed14"
      },
      "execution_count": 20,
      "outputs": [
        {
          "output_type": "stream",
          "name": "stdout",
          "text": [
            "[[ 3 10  8 17  6]\n",
            " [ 8 13 15 14 13]\n",
            " [11 36 10  7 14]]\n"
          ]
        }
      ]
    },
    {
      "cell_type": "code",
      "source": [
        "print(\"Type of list1:\", type(l1))\n",
        "print(\"Type of array1:\", type(a))"
      ],
      "metadata": {
        "colab": {
          "base_uri": "https://localhost:8080/"
        },
        "id": "N3P-lU2S0ZKA",
        "outputId": "07faa953-a7f7-4ea0-e8e7-684298c5c117"
      },
      "execution_count": 21,
      "outputs": [
        {
          "output_type": "stream",
          "name": "stdout",
          "text": [
            "Type of list1: <class 'list'>\n",
            "Type of array1: <class 'numpy.ndarray'>\n"
          ]
        }
      ]
    },
    {
      "cell_type": "code",
      "source": [
        "import numpy as np\n",
        "a=np.array(l1)\n",
        "b=np.array(l2)\n",
        "mul=a*b\n",
        "print(mul)"
      ],
      "metadata": {
        "colab": {
          "base_uri": "https://localhost:8080/"
        },
        "id": "wACnd_xR0gaf",
        "outputId": "99252f36-6a8c-452b-c3cc-1ef44b61c67a"
      },
      "execution_count": 22,
      "outputs": [
        {
          "output_type": "stream",
          "name": "stdout",
          "text": [
            "[[  2  24  15  72   5]\n",
            " [ 16  42  56  48  12]\n",
            " [ 24 323   9  12  45]]\n"
          ]
        }
      ]
    },
    {
      "cell_type": "code",
      "source": [
        "divide = a / b\n",
        "print(divide)\n"
      ],
      "metadata": {
        "colab": {
          "base_uri": "https://localhost:8080/"
        },
        "id": "ZzG2lzQd0jOP",
        "outputId": "ca0a771c-3c29-4fdc-a01d-e258e16edfc7"
      },
      "execution_count": 23,
      "outputs": [
        {
          "output_type": "stream",
          "name": "stdout",
          "text": [
            "[[0.5        1.5        0.6        0.88888889 5.        ]\n",
            " [1.         1.16666667 1.14285714 0.75       0.08333333]\n",
            " [2.66666667 0.89473684 9.         0.75       0.55555556]]\n"
          ]
        }
      ]
    },
    {
      "cell_type": "code",
      "source": [
        "power = np.power(a, b)\n",
        "print(power)"
      ],
      "metadata": {
        "colab": {
          "base_uri": "https://localhost:8080/"
        },
        "id": "h_nBHDHN0mYJ",
        "outputId": "2224c679-8461-4a33-bd5c-5fa67f6eafc4"
      },
      "execution_count": 25,
      "outputs": [
        {
          "output_type": "stream",
          "name": "stdout",
          "text": [
            "[[                  1                1296                 243\n",
            "            134217728                   5]\n",
            " [                256              117649             2097152\n",
            "              1679616                   1]\n",
            " [                512 2632489875535903793                   9\n",
            "                   81             1953125]]\n"
          ]
        }
      ]
    },
    {
      "cell_type": "code",
      "source": [
        "sin_values = np.sin(a)\n",
        "log_values = np.log(a)\n",
        "log2_values = np.log2(a)\n",
        "exp_values = np.exp(a)\n",
        "print(\"Sin values:\", sin_values)\n",
        "print(\"Log values:\", log_values)\n",
        "print(\"Log2 values:\", log2_values)\n",
        "print(\"Exponential values:\", exp_values)"
      ],
      "metadata": {
        "colab": {
          "base_uri": "https://localhost:8080/"
        },
        "id": "4vTtJfpl0q7M",
        "outputId": "3bed545e-c1f3-4c38-a91a-126ad486a602"
      },
      "execution_count": 26,
      "outputs": [
        {
          "output_type": "stream",
          "name": "stdout",
          "text": [
            "Sin values: [[ 0.84147098 -0.2794155   0.14112001  0.98935825 -0.95892427]\n",
            " [-0.7568025   0.6569866   0.98935825 -0.2794155   0.84147098]\n",
            " [ 0.98935825 -0.96139749  0.41211849  0.14112001 -0.95892427]]\n",
            "Log values: [[0.         1.79175947 1.09861229 2.07944154 1.60943791]\n",
            " [1.38629436 1.94591015 2.07944154 1.79175947 0.        ]\n",
            " [2.07944154 2.83321334 2.19722458 1.09861229 1.60943791]]\n",
            "Log2 values: [[0.         2.5849625  1.5849625  3.         2.32192809]\n",
            " [2.         2.80735492 3.         2.5849625  0.        ]\n",
            " [3.         4.08746284 3.169925   1.5849625  2.32192809]]\n",
            "Exponential values: [[2.71828183e+00 4.03428793e+02 2.00855369e+01 2.98095799e+03\n",
            "  1.48413159e+02]\n",
            " [5.45981500e+01 1.09663316e+03 2.98095799e+03 4.03428793e+02\n",
            "  2.71828183e+00]\n",
            " [2.98095799e+03 2.41549528e+07 8.10308393e+03 2.00855369e+01\n",
            "  1.48413159e+02]]\n"
          ]
        }
      ]
    }
  ]
}